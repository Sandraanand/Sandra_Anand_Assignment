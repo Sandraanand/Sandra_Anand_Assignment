{
 "cells": [
  {
   "cell_type": "code",
   "execution_count": 3,
   "id": "898a9e32-00ef-4a63-a4ab-60a01dc0905b",
   "metadata": {},
   "outputs": [],
   "source": [
    "import pandas as pd\n",
    "customers = pd.read_csv(r\"C:\\Users\\sandr\\Downloads\\Customers.csv\")\n",
    "products = pd.read_csv(r\"C:\\Users\\sandr\\Downloads\\Products.csv\")\n",
    "transactions = pd.read_csv(r\"C:\\Users\\sandr\\Downloads\\Transactions.csv\")\n",
    "merged_data = transactions.merge(customers, on='CustomerID').merge(products, on='ProductID')\n",
    "\n"
   ]
  },
  {
   "cell_type": "code",
   "execution_count": 4,
   "id": "93b51ec9-2a14-4403-bf9c-4418d495a937",
   "metadata": {},
   "outputs": [],
   "source": [
    "# Create customer profiles\n",
    "customer_profiles = merged_data.groupby('CustomerID').agg({\n",
    "    'TotalValue': 'sum',\n",
    "    'TransactionID': 'count',\n",
    "    'Category': lambda x: x.mode()[0],  # Most common category\n",
    "}).reset_index()\n",
    "\n",
    "customer_profiles.rename(columns={'TransactionID': 'NumTransactions'}, inplace=True)"
   ]
  },
  {
   "cell_type": "code",
   "execution_count": 5,
   "id": "4938b72f-ccd3-48c8-ab0e-9bef80a4dc14",
   "metadata": {},
   "outputs": [],
   "source": [
    "from sklearn.preprocessing import StandardScaler\n",
    "from sklearn.metrics.pairwise import cosine_similarity\n",
    "\n",
    "# Normalize features\n",
    "scaler = StandardScaler()\n",
    "features = scaler.fit_transform(customer_profiles[['TotalValue', 'NumTransactions']])\n",
    "\n",
    "# Calculate cosine similarity\n",
    "similarity_matrix = cosine_similarity(features)"
   ]
  },
  {
   "cell_type": "code",
   "execution_count": 6,
   "id": "b746f623-8059-4bc7-ae0a-51c170996d50",
   "metadata": {},
   "outputs": [],
   "source": [
    "lookalike_recommendations = {}\n",
    "\n",
    "for i in range(20):  # For customers C0001 to C0020\n",
    "    similar_indices = similarity_matrix[i].argsort()[-4:-1][::-1]  # Get top 3 similar customers\n",
    "    similar_customers = customer_profiles.iloc[similar_indices]\n",
    "    scores = similarity_matrix[i][similar_indices]\n",
    "    \n",
    "    lookalike_recommendations[customer_profiles['CustomerID'].iloc[i]] = list(zip(similar_customers['CustomerID'], scores))"
   ]
  },
  {
   "cell_type": "code",
   "execution_count": 7,
   "id": "c402a5d0-cf01-4e2c-9779-21bc73d82ef1",
   "metadata": {},
   "outputs": [],
   "source": [
    "# Prepare data for CSV\n",
    "lookalike_data = {\n",
    "    'cust_id': [],\n",
    "    'lookalikes': []\n",
    "}\n",
    "\n",
    "for cust_id, recommendations in lookalike_recommendations.items():\n",
    "    lookalike_data['cust_id'].append(cust_id)\n",
    "    lookalike_data['lookalikes'].append(recommendations)\n",
    "\n",
    "lookalike_df = pd.DataFrame(lookalike_data)\n",
    "lookalike_df.to_csv('Lookalike.csv', index=False)"
   ]
  },
  {
   "cell_type": "code",
   "execution_count": null,
   "id": "0d9fe6f7-c2ba-4d1d-be9a-36a53e47974c",
   "metadata": {},
   "outputs": [],
   "source": []
  }
 ],
 "metadata": {
  "kernelspec": {
   "display_name": "Python 3 (ipykernel)",
   "language": "python",
   "name": "python3"
  },
  "language_info": {
   "codemirror_mode": {
    "name": "ipython",
    "version": 3
   },
   "file_extension": ".py",
   "mimetype": "text/x-python",
   "name": "python",
   "nbconvert_exporter": "python",
   "pygments_lexer": "ipython3",
   "version": "3.11.7"
  }
 },
 "nbformat": 4,
 "nbformat_minor": 5
}
